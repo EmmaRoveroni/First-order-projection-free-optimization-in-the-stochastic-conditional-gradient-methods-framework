{
  "cells": [
    {
      "cell_type": "code",
      "execution_count": null,
      "metadata": {
        "id": "x0JtSEvaK0ko"
      },
      "outputs": [],
      "source": [
        "import numpy as np\n",
        "import pandas as pd\n",
        "import matplotlib.pyplot as plt\n",
        "import math\n",
        "import random\n",
        "from sklearn.model_selection import train_test_split\n",
        "from sklearn.preprocessing import MinMaxScaler\n",
        "from scipy.linalg import norm\n",
        "from keras.datasets import mnist\n",
        "import time"
      ]
    },
    {
      "cell_type": "markdown",
      "metadata": {
        "id": "8z2mjjIMe0sW"
      },
      "source": [
        "Diabetes dataset"
      ]
    },
    {
      "cell_type": "code",
      "execution_count": null,
      "metadata": {
        "colab": {
          "base_uri": "https://localhost:8080/",
          "height": 91
        },
        "id": "GIX5eZyfBBya",
        "outputId": "1b486397-63dd-40eb-96f5-488adcdc796f"
      },
      "outputs": [
        {
          "output_type": "execute_result",
          "data": {
            "text/plain": [
              "'\\ndiabetes_df = pd.read_csv(\\'diabetes.csv\\')\\ndiabetes_df = diabetes_df.dropna()\\ndiabetes_di = {1: 1, 0: -1}\\ndiabetes_df = diabetes_df.replace({\"Outcome\": diabetes_di})\\nX = diabetes_df.iloc[:, 0:8]\\nY = diabetes_df.iloc[:, 8]\\nX_train, X_test, Y_train, Y_test = train_test_split(X, Y, test_size=0.10, random_state=42)\\nX_train = X_train.to_numpy()\\nY_train = Y_train.to_numpy().reshape(X_train.shape[0],1)\\nX_test = X_test.to_numpy()\\nY_test = Y_test.to_numpy().reshape(X_test.shape[0],1)\\nscaler = MinMaxScaler()\\nscaler = scaler.fit(X_train)\\nX_train = scaler.transform(X_train)\\nX_test = scaler.transform(X_test)\\n'"
            ],
            "application/vnd.google.colaboratory.intrinsic+json": {
              "type": "string"
            }
          },
          "metadata": {},
          "execution_count": 2
        }
      ],
      "source": [
        "'''\n",
        "diabetes_df = pd.read_csv('diabetes.csv')\n",
        "diabetes_df = diabetes_df.dropna()\n",
        "diabetes_di = {1: 1, 0: -1}\n",
        "diabetes_df = diabetes_df.replace({\"Outcome\": diabetes_di})\n",
        "X = diabetes_df.iloc[:, 0:8]\n",
        "Y = diabetes_df.iloc[:, 8]\n",
        "X_train, X_test, Y_train, Y_test = train_test_split(X, Y, test_size=0.10, random_state=42)\n",
        "X_train = X_train.to_numpy()\n",
        "Y_train = Y_train.to_numpy().reshape(X_train.shape[0],1)\n",
        "X_test = X_test.to_numpy()\n",
        "Y_test = Y_test.to_numpy().reshape(X_test.shape[0],1)\n",
        "scaler = MinMaxScaler()\n",
        "scaler = scaler.fit(X_train)\n",
        "X_train = scaler.transform(X_train)\n",
        "X_test = scaler.transform(X_test)\n",
        "'''"
      ]
    },
    {
      "cell_type": "markdown",
      "metadata": {
        "id": "p5cf65VpeyB_"
      },
      "source": [
        "Heart disease dataset"
      ]
    },
    {
      "cell_type": "code",
      "execution_count": null,
      "metadata": {
        "id": "c36wZMwXBBnD"
      },
      "outputs": [],
      "source": [
        "\n",
        "heart_df = pd.read_csv('framingham.csv')\n",
        "heart_df = heart_df.dropna()\n",
        "heart_di = {1: 1, 0: -1}\n",
        "heart_df = heart_df.replace({\"TenYearCHD\": heart_di})\n",
        "X = heart_df.iloc[:, 0:15]\n",
        "Y = heart_df.iloc[:, 15]\n",
        "X_train, X_test, Y_train, Y_test = train_test_split(X, Y, test_size=0.10, random_state=42)\n",
        "X_train = X_train.to_numpy()\n",
        "Y_train = Y_train.to_numpy().reshape(X_train.shape[0],1)\n",
        "X_test = X_test.to_numpy()\n",
        "Y_test = Y_test.to_numpy().reshape(X_test.shape[0],1)\n",
        "scaler = MinMaxScaler()\n",
        "scaler = scaler.fit(X_train)\n",
        "X_train = scaler.transform(X_train)\n",
        "X_test = scaler.transform(X_test)\n"
      ]
    },
    {
      "cell_type": "markdown",
      "metadata": {
        "id": "wekEOA4NepNC"
      },
      "source": [
        "Activation function of logistic regression\n",
        "\\begin{align}\n",
        "F(W) = \\frac{1}{1+\\exp(-W^{T}x_{i})}\n",
        "\\end{align}"
      ]
    },
    {
      "cell_type": "code",
      "execution_count": null,
      "metadata": {
        "id": "AjGXh_UTBLHB"
      },
      "outputs": [],
      "source": [
        "def logreg_function(X,W):\n",
        "  return 1/(1 + math.exp(-np.dot(W,X)))"
      ]
    },
    {
      "cell_type": "markdown",
      "metadata": {
        "id": "mvAIOaSFhYOi"
      },
      "source": [
        "Logistic Regression loss function to optimize\n",
        "\n",
        "\\begin{align}\n",
        "F(W) = \\frac{1}{m} \\sum_{i=1}^m\\ln(1+\\exp(-y_{i} \\cdot W^{T}x_{i}))\n",
        "\\end{align}\n",
        "(*1 ≤ i ≤ m m = number of examples*) \\\\\n",
        "with constraint:\n",
        "\\begin{align}\n",
        "\\Vert W \\Vert_{1} \\le r\n",
        "\\end{align}\n",
        "\n",
        "(*with r = 1 this is equivalent to solving the l1-ball problem which is what we have done*)\n"
      ]
    },
    {
      "cell_type": "code",
      "execution_count": null,
      "metadata": {
        "id": "tS9U1ohGLkv6"
      },
      "outputs": [],
      "source": [
        "def logreg_loss_function(W,A,Y):\n",
        "\n",
        "  return 1/A.shape[0] * np.sum([math.log(1 + math.exp(-Y[x]*np.dot(W,A[x,:]))) for x in range(A.shape[0])])\n"
      ]
    },
    {
      "cell_type": "markdown",
      "metadata": {
        "id": "9h3cFwlAebH8"
      },
      "source": [
        "The full gradient of the Logistic Regression function\n",
        "\n",
        "\\begin{align}\n",
        "\\frac{∂ F(W)}{∂ W_{j}} &= \\frac{1}{m} \\sum_{i=1}^m \\frac{-y^{i} \\cdot x^{j}_{i}}{1+\\exp(y_{i} \\cdot W^{T}x_{i})}\n",
        "\\end{align}\n",
        "(*1 ≤ j ≤ n n = number of variables*) \\\\"
      ]
    },
    {
      "cell_type": "code",
      "execution_count": null,
      "metadata": {
        "id": "s2Fi2uCBB3aV"
      },
      "outputs": [],
      "source": [
        "def get_full_gradient(W,A,Y):\n",
        "\n",
        "  gradient = np.zeros(A.shape[1])\n",
        "\n",
        "  for k in range(A.shape[1]):\n",
        "\n",
        "    gradient[k] = 1/A.shape[0] * np.sum([-Y[x]*A[x,k]/( 1 + math.exp(Y[x]*np.dot(W,A[x,:]))) for x in range(A.shape[0])])\n",
        "\n",
        "  return gradient.flatten()"
      ]
    },
    {
      "cell_type": "markdown",
      "metadata": {
        "id": "JyVjZI9SeTj1"
      },
      "source": [
        "A random stochastic gradient of the Logistic Regression function"
      ]
    },
    {
      "cell_type": "code",
      "execution_count": null,
      "metadata": {
        "id": "Ugoa0k_646h3"
      },
      "outputs": [],
      "source": [
        "def get_stochastic_gradient(W,A,Y,ik):\n",
        "\n",
        "  gradient = np.zeros(A.shape[1])\n",
        "\n",
        "  for k in range(A.shape[1]):\n",
        "\n",
        "    gradient[k] = -Y[ik]*A[ik,k]/( 1 + math.exp(Y[ik]*np.dot(W,A[ik,:])))\n",
        "\n",
        "  return gradient.flatten()"
      ]
    },
    {
      "cell_type": "markdown",
      "metadata": {
        "id": "2kw_SCMsd9c9"
      },
      "source": [
        "FW problem solution standard case"
      ]
    },
    {
      "cell_type": "code",
      "execution_count": null,
      "metadata": {
        "id": "frFeqOUVCDK1"
      },
      "outputs": [],
      "source": [
        "def get_FWP_solution_Standard(gradient):\n",
        "\n",
        "  index_max = np.argmax(np.absolute(gradient))\n",
        "\n",
        "  vt = np.sign(-gradient[index_max]) * np.eye(len(gradient))[:,index_max]\n",
        "\n",
        "  return vt"
      ]
    },
    {
      "cell_type": "markdown",
      "metadata": {
        "id": "OqdLkZIBd4rj"
      },
      "source": [
        "FW problem solution SCG"
      ]
    },
    {
      "cell_type": "code",
      "execution_count": null,
      "metadata": {
        "id": "-_5T1xUzICIf"
      },
      "outputs": [],
      "source": [
        "def get_FWP_solution_SCG(gradient,pt,dtprev):\n",
        "\n",
        "  dt = (1-pt)*dtprev + pt*gradient\n",
        "\n",
        "  index_max = np.argmax(np.absolute(dt))\n",
        "\n",
        "  vt = np.sign(-dt[index_max]) * np.eye(len(gradient))[:,index_max]\n",
        "\n",
        "  return vt,dt"
      ]
    },
    {
      "cell_type": "markdown",
      "metadata": {
        "id": "mNbrLMyWd0CP"
      },
      "source": [
        "FW problem solution 1-SFW"
      ]
    },
    {
      "cell_type": "code",
      "execution_count": null,
      "metadata": {
        "id": "mNK_J2PpNjL7"
      },
      "outputs": [],
      "source": [
        "def get_FWP_solution_1_SFW(gradient,pt,dtprev,grad_diff):\n",
        "\n",
        "  dt = (1-pt)*(dtprev+grad_diff) + pt*gradient\n",
        "\n",
        "  index_max = np.argmax(np.absolute(dt))\n",
        "\n",
        "  vt = np.sign(-dt[index_max]) * np.eye(len(gradient))[:,index_max]\n",
        "\n",
        "  return vt,dt"
      ]
    },
    {
      "cell_type": "markdown",
      "metadata": {
        "id": "TxhKurVfdBSz"
      },
      "source": [
        "SFW algorithm"
      ]
    },
    {
      "cell_type": "code",
      "execution_count": null,
      "metadata": {
        "id": "y1V8a0ANY3UU"
      },
      "outputs": [],
      "source": [
        "def SFW(W,A,Y,iterations):\n",
        "\n",
        "  dtprev = np.zeros(len(W))\n",
        "  vt = np.zeros(len(W))\n",
        "  trace_fx = []\n",
        "  trace_time = []\n",
        "  start = time.time()\n",
        "\n",
        "\n",
        "  for iteration in range(1,iterations):\n",
        "\n",
        "    # Tracing Loss function\n",
        "    trace_fx.append(logreg_loss_function(W,A,Y))\n",
        "    trace_time.append(time.time()-start)\n",
        "\n",
        "    # Parameters\n",
        "    gamma = 2 / (iteration+1)\n",
        "\n",
        "    pt = 4/ pow((iteration+8),2/3)\n",
        "    '''\n",
        "    mk = np.max((iteration**2,A.shape[0]))\n",
        "\n",
        "    avg_gradient = np.zeros(len(W))\n",
        "\n",
        "    for i in range(mk):\n",
        "\n",
        "      avg_gradient += get_stochastic_gradient(W,A,Y,np.random.randint(0,A.shape[0]))\n",
        "\n",
        "    avg_gradient = avg_gradient/mk\n",
        "\n",
        "    # FW problem solution 1\n",
        "    vt = np.array(get_FWP_solution_Standard(avg_gradient))\n",
        "    '''\n",
        "    # FW problem solution 2\n",
        "    vt = np.array(get_FWP_solution_Standard(get_stochastic_gradient(W,A,Y,np.random.randint(0,X_train.shape[0]))))\n",
        "\n",
        "    # Weight update\n",
        "    W = (1-gamma)*W + gamma*vt\n",
        "\n",
        "\n",
        "  return W, trace_fx,trace_time"
      ]
    },
    {
      "cell_type": "markdown",
      "metadata": {
        "id": "P_tvmXjHc5k0"
      },
      "source": [
        "SCG algorithm"
      ]
    },
    {
      "cell_type": "code",
      "execution_count": null,
      "metadata": {
        "id": "NdUlsR8OFcTz"
      },
      "outputs": [],
      "source": [
        "def Frank_Wolfe_SCG(W,A,Y,iterations):\n",
        "\n",
        "  dtprev = np.zeros(len(W))\n",
        "  vt = np.zeros(len(W))\n",
        "  trace_fx = []\n",
        "  trace_time = []\n",
        "  start = time.time()\n",
        "  W_history = []\n",
        "  estimate = []\n",
        "\n",
        "  for iteration in range(1,iterations):\n",
        "\n",
        "    # Tracing Loss function\n",
        "    trace_fx.append(logreg_loss_function(W,A,Y))\n",
        "    trace_time.append(time.time()-start)\n",
        "    W_history.append(W)\n",
        "    estimate.append(dtprev)\n",
        "\n",
        "    # Parameters\n",
        "    gamma = 2 / (8 + iteration)\n",
        "\n",
        "    pt = 4/ pow((iteration+8),2/3)\n",
        "\n",
        "    # FW problem solution\n",
        "    vt, dtprev = np.array(get_FWP_solution_SCG(get_stochastic_gradient(W,A,Y,np.random.randint(0,A.shape[0])),pt,dtprev))\n",
        "\n",
        "    # Weights update\n",
        "    W = (1-gamma)*W + gamma*vt\n",
        "\n",
        "\n",
        "  return W, trace_fx,trace_time,W_history,estimate"
      ]
    },
    {
      "cell_type": "markdown",
      "metadata": {
        "id": "aLkmZjk_c3cX"
      },
      "source": [
        "1-SFW algorithm"
      ]
    },
    {
      "cell_type": "code",
      "execution_count": null,
      "metadata": {
        "id": "iiPipmsQFXQW"
      },
      "outputs": [],
      "source": [
        "def Frank_Wolfe_1_SFW(W,A,Y,iterations):\n",
        "\n",
        "  dtprev = np.zeros(len(W))\n",
        "  vt = np.zeros(len(W))\n",
        "  Wprev = np.zeros(len(W))\n",
        "  grad_diff = np.zeros(len(W))\n",
        "  trace_fx = []\n",
        "  trace_time = []\n",
        "  start = time.time()\n",
        "\n",
        "  for iteration in range(1,iterations):\n",
        "\n",
        "    # Tracing Loss function\n",
        "    trace_fx.append(logreg_loss_function(W,A,Y))\n",
        "    trace_time.append(time.time()-start)\n",
        "\n",
        "    # Parameters\n",
        "    gamma = pow(iteration,-1)\n",
        "\n",
        "    if iteration == 1:\n",
        "\n",
        "      vt, dtprev = np.array(get_FWP_solution_1_SFW(get_stochastic_gradient(W,A,Y,np.random.randint(0,A.shape[0])),1,dtprev,grad_diff))\n",
        "\n",
        "    else:\n",
        "\n",
        "      pt = pow((iteration-1),-1)\n",
        "\n",
        "      ik = np.random.randint(0,A.shape[0])\n",
        "\n",
        "      current_stoch_grad = get_stochastic_gradient(W,A,Y,ik)\n",
        "\n",
        "      # Difference between stoch gradient at previous and current iteration for the same datapoint\n",
        "      grad_diff = current_stoch_grad-get_stochastic_gradient(Wprev,A,Y,ik)\n",
        "\n",
        "      # FW problem solution\n",
        "      vt, dtprev = np.array(get_FWP_solution_1_SFW(current_stoch_grad,pt,dtprev,grad_diff))\n",
        "\n",
        "    # Weights Update\n",
        "    Wprev = W\n",
        "    W = (1-gamma)*W + gamma*vt\n",
        "\n",
        "  return W, trace_fx,trace_time"
      ]
    },
    {
      "cell_type": "markdown",
      "metadata": {
        "id": "kefxkoy6ZjJ2"
      },
      "source": [
        "SFW execution"
      ]
    },
    {
      "cell_type": "code",
      "execution_count": null,
      "metadata": {
        "colab": {
          "base_uri": "https://localhost:8080/"
        },
        "id": "iwyUVWfnZVCA",
        "outputId": "c364e1d2-ba8f-4bd6-83e5-cdb6dde02c22"
      },
      "outputs": [
        {
          "output_type": "stream",
          "name": "stdout",
          "text": [
            "Starting loss = 0.8883174759541577\n",
            "Final loss = 0.6125826344922497\n",
            "accuracy = 0.8469945355191257\n",
            "number of right predictions = 310 out of 366\n"
          ]
        }
      ],
      "source": [
        "initial_point = np.zeros(X_train.shape[1])\n",
        "initial_point[0] = 1\n",
        "iterations = 500\n",
        "print(\"Starting loss = \" + str(logreg_loss_function(initial_point,X_train,Y_train)))\n",
        "xk_star,trace_fx,trace_time_x = SFW(initial_point,X_train,Y_train,iterations)\n",
        "print(\"Final loss = \" + str(logreg_loss_function(xk_star,X_train,Y_train)))\n",
        "\n",
        "support = [logreg_function(X_test[i,:],xk_star) for i in range(len(Y_test))]\n",
        "prediction = [1 if i > 0.5 else -1 for i in support]\n",
        "support = list(prediction == Y_test.flatten())\n",
        "result = support.count(True)/len(support)\n",
        "print(\"accuracy = \" + str(result))\n",
        "print(\"number of right predictions = \" + str(support.count(True)) + \" out of \" + str(len(support)))"
      ]
    },
    {
      "cell_type": "markdown",
      "metadata": {
        "id": "6H_U1xHR51Dh"
      },
      "source": [
        "SCG execution"
      ]
    },
    {
      "cell_type": "code",
      "execution_count": null,
      "metadata": {
        "colab": {
          "base_uri": "https://localhost:8080/"
        },
        "id": "VZq1CB4XGWqi",
        "outputId": "0cf78a31-669b-4549-de0c-c0d161892c80"
      },
      "outputs": [
        {
          "output_type": "stream",
          "name": "stdout",
          "text": [
            "Starting loss = 0.8883174759541577\n",
            "Final loss = 0.5850236466468374\n",
            "accuracy = 0.8469945355191257\n",
            "number of right predictions = 310 out of 366\n"
          ]
        }
      ],
      "source": [
        "initial_point = np.zeros(X_train.shape[1])\n",
        "initial_point[0] = 1\n",
        "iterations = 500\n",
        "print(\"Starting loss = \" + str(logreg_loss_function(initial_point,X_train,Y_train)))\n",
        "xk_star,trace_fy,trace_time_y,W_history,estimate = Frank_Wolfe_SCG(initial_point,X_train,Y_train,iterations)\n",
        "print(\"Final loss = \" + str(logreg_loss_function(xk_star,X_train,Y_train)))\n",
        "\n",
        "support = [logreg_function(X_test[i,:],xk_star) for i in range(len(Y_test))]\n",
        "prediction = [1 if i > 0.5 else -1 for i in support]\n",
        "support = list(prediction == Y_test.flatten())\n",
        "result = support.count(True)/len(support)\n",
        "print(\"accuracy = \" + str(result))\n",
        "print(\"number of right predictions = \" + str(support.count(True)) + \" out of \" + str(len(support)))"
      ]
    },
    {
      "cell_type": "markdown",
      "metadata": {
        "id": "MwCuKa935ztw"
      },
      "source": [
        "1-SFW execution"
      ]
    },
    {
      "cell_type": "code",
      "execution_count": null,
      "metadata": {
        "colab": {
          "base_uri": "https://localhost:8080/"
        },
        "id": "lF6n9px2RkQ-",
        "outputId": "a9e70838-20e7-4015-faad-e441d3c36f9b"
      },
      "outputs": [
        {
          "output_type": "stream",
          "name": "stdout",
          "text": [
            "Starting loss = 0.8883174759541577\n",
            "Final loss = 0.5770388805821802\n",
            "accuracy = 0.8469945355191257\n",
            "number of right predictions = 310 out of 366\n"
          ]
        }
      ],
      "source": [
        "initial_point = np.zeros(X_train.shape[1])\n",
        "initial_point[0] = 1\n",
        "iterations = 500\n",
        "print(\"Starting loss = \" + str(logreg_loss_function(initial_point,X_train,Y_train)))\n",
        "xk_star,trace_fz,trace_time_z = Frank_Wolfe_1_SFW(initial_point,X_train,Y_train,iterations)\n",
        "print(\"Final loss = \" + str(logreg_loss_function(xk_star,X_train,Y_train)))\n",
        "\n",
        "\n",
        "support = [logreg_function(X_test[i,:],xk_star) for i in range(len(Y_test))]\n",
        "prediction = [1 if i > 0.5 else -1 for i in support]\n",
        "support = list(prediction == Y_test.flatten())\n",
        "result = support.count(True)/len(support)\n",
        "print(\"accuracy = \" + str(result))\n",
        "print(\"number of right predictions = \" + str(support.count(True)) + \" out of \" + str(len(support)))"
      ]
    },
    {
      "cell_type": "markdown",
      "metadata": {
        "id": "LNpRoUAT56em"
      },
      "source": [
        "Comparison of SFW, SCG and 1-SFW"
      ]
    },
    {
      "cell_type": "code",
      "execution_count": null,
      "metadata": {
        "colab": {
          "base_uri": "https://localhost:8080/",
          "height": 295
        },
        "id": "NcOXAWQpOV3u",
        "outputId": "da1b6f09-68e0-4ca0-86df-a1bdb41e68a6"
      },
      "outputs": [
        {
          "output_type": "display_data",
          "data": {
            "text/plain": [
              "<Figure size 432x288 with 1 Axes>"
            ],
            "image/png": "[encoded data removed]"
          },
          "metadata": {
            "needs_background": "light"
          }
        }
      ],
      "source": [
        "plt.yscale(\"log\")\n",
        "plt.plot(trace_fx,color='r', label='SFW')\n",
        "plt.plot(trace_fy,color='g', label='SCG')\n",
        "plt.plot(trace_fz,color='b', label='1-SFW')\n",
        "plt.xlabel(\"Iterations\")\n",
        "plt.ylabel(\"Loss\")\n",
        "plt.title(\"Comparison of SFW, SCG and 1-SFW algorithms\")\n",
        "plt.legend()\n",
        "plt.show()"
      ]
    },
    {
      "cell_type": "code",
      "execution_count": null,
      "metadata": {
        "colab": {
          "base_uri": "https://localhost:8080/",
          "height": 295
        },
        "id": "dLYQ55kuE910",
        "outputId": "e5a5c758-3a14-4af7-d5ad-6be8c35274ec"
      },
      "outputs": [
        {
          "output_type": "display_data",
          "data": {
            "text/plain": [
              "<Figure size 432x288 with 1 Axes>"
            ],
            "image/png": "[encoded data removed]"
          },
          "metadata": {
            "needs_background": "light"
          }
        }
      ],
      "source": [
        "plt.yscale(\"log\")\n",
        "plt.plot(trace_time_x,trace_fx,color='r', label='SFW')\n",
        "plt.plot(trace_time_y,trace_fy,color='g', label='SCG')\n",
        "plt.plot(trace_time_z,trace_fz,color='b', label='1-SFW')\n",
        "plt.xlabel(\"Time (s)\")\n",
        "plt.ylabel(\"Loss\")\n",
        "plt.title(\"Comparison of SFW, SCG and 1-SFW algorithms\")\n",
        "plt.legend()\n",
        "plt.show()"
      ]
    },
    {
      "cell_type": "code",
      "execution_count": null,
      "metadata": {
        "colab": {
          "base_uri": "https://localhost:8080/",
          "height": 295
        },
        "id": "YFk19-_iJn8E",
        "outputId": "7ace4d15-41a8-4e40-8698-d9c7cb3d1d87"
      },
      "outputs": [
        {
          "output_type": "display_data",
          "data": {
            "text/plain": [
              "<Figure size 432x288 with 1 Axes>"
            ],
            "image/png": "[encoded data removed]"
          },
          "metadata": {
            "needs_background": "light"
          }
        }
      ],
      "source": [
        "full_gradient = [get_full_gradient(W_history[i],X_train, Y_train) for i in range(len(W_history))]\n",
        "diff_fy = [estimate[i]-full_gradient[i] for i in range(len(W_history))]\n",
        "diff_fy_norm = [np.linalg.norm(diff_fy[i],2) for i in range(len(diff_fy))]\n",
        "diff_fy_norm = [pow(diff_fy_norm[i],2) for i in range(len(diff_fy_norm))]\n",
        "plt.plot(diff_fy_norm,color='g')\n",
        "plt.xlabel(\"Iterations\")\n",
        "plt.ylabel(\"Expected noise of the gradient estimation\")\n",
        "plt.title(\"SCG - Expected noise of the gradient estimation\")\n",
        "plt.show()"
      ]
    },
    {
      "cell_type": "markdown",
      "metadata": {
        "id": "0oXKKkszccsT"
      },
      "source": [
        "SVRF algorithm"
      ]
    },
    {
      "cell_type": "code",
      "execution_count": null,
      "metadata": {
        "id": "GsUN6_7gbvPB"
      },
      "outputs": [],
      "source": [
        "def Frank_Wolfe_SVRF(StartX,A,Y,iterations):\n",
        "\n",
        "  # X0 = snapshot, W point at current iteration\n",
        "  trace_fx = []\n",
        "  trace_time = []\n",
        "  start_time = time.time()\n",
        "  W = get_FWP_solution_Standard(get_full_gradient(StartX,A,Y))\n",
        "  for iteration in range(1,iterations):\n",
        "\n",
        "    # Take snapshot\n",
        "    X0 = W\n",
        "    # Compute snapshot gradient\n",
        "    gradientX0 = get_full_gradient(X0,A,Y)\n",
        "\n",
        "    Nt = pow(2,iteration+3)-2\n",
        "\n",
        "    for k in range(1,Nt):\n",
        "\n",
        "      # Tracing Loss function\n",
        "      trace_fx.append(logreg_loss_function(W,A,Y))\n",
        "      trace_time.append(time.time()-start_time)\n",
        "\n",
        "      # Parameters\n",
        "\n",
        "      mk = 96*(k+1)\n",
        "      gammak = 2 / (k+1)\n",
        "\n",
        "      # Avg gradient\n",
        "      gradient_counter = np.zeros(len(W))\n",
        "\n",
        "      for i in range(mk):\n",
        "\n",
        "\n",
        "        ik = np.random.randint(0,X_train.shape[0])\n",
        "        gradient_counter += get_stochastic_gradient(W,A,Y,ik)-(get_stochastic_gradient(X0,A,Y,ik)-gradientX0)\n",
        "\n",
        "\n",
        "      avg_gradient = gradient_counter/mk\n",
        "\n",
        "      # FW problem solution\n",
        "      vk = get_FWP_solution_Standard(avg_gradient)\n",
        "\n",
        "      # Weights update\n",
        "      W = (1-gammak)*W + gammak*(vk)\n",
        "\n",
        "  return W,trace_fx,trace_time"
      ]
    },
    {
      "cell_type": "markdown",
      "metadata": {
        "id": "Qt41iWpCcmd9"
      },
      "source": [
        "SVRF execution"
      ]
    },
    {
      "cell_type": "code",
      "execution_count": null,
      "metadata": {
        "colab": {
          "base_uri": "https://localhost:8080/",
          "height": 368
        },
        "id": "JU7f4RNBcFRk",
        "outputId": "fccb6964-4e55-421a-98d9-11562a2f3810"
      },
      "outputs": [
        {
          "output_type": "stream",
          "name": "stdout",
          "text": [
            "Starting loss = 0.8883174759541577\n",
            "Final loss = 0.575024924161649\n",
            "accuracy = 0.8469945355191257\n",
            "number of right predictions = 310 out of 366\n"
          ]
        },
        {
          "output_type": "display_data",
          "data": {
            "text/plain": [
              "<Figure size 432x288 with 1 Axes>"
            ],
            "image/png": "[encoded data removed]"
          },
          "metadata": {
            "needs_background": "light"
          }
        }
      ],
      "source": [
        "initial_point = np.zeros(X_train.shape[1])\n",
        "initial_point[0] = 1\n",
        "iterations = 4\n",
        "print(\"Starting loss = \" + str(logreg_loss_function(initial_point,X_train,Y_train)))\n",
        "xk_star,trace_fx,trace_time = Frank_Wolfe_SVRF(initial_point,X_train,Y_train,iterations)\n",
        "print(\"Final loss = \" + str(logreg_loss_function(xk_star,X_train,Y_train)))\n",
        "\n",
        "support = [logreg_function(X_test[i,:],xk_star) for i in range(len(Y_test))]\n",
        "prediction = [1 if i > 0.5 else -1 for i in support]\n",
        "support = list(prediction == Y_test.flatten())\n",
        "result = support.count(True)/len(support)\n",
        "print(\"accuracy = \" + str(result))\n",
        "print(\"number of right predictions = \" + str(support.count(True)) + \" out of \" + str(len(support)))\n",
        "plt.yscale(\"log\")\n",
        "plt.plot(trace_fx,color='b', label='SVRF')\n",
        "plt.xlabel(\"Iterations\")\n",
        "plt.ylabel(\"Loss\")\n",
        "plt.title(\"SVRF algorithm\")\n",
        "plt.show()"
      ]
    },
    {
      "cell_type": "code",
      "execution_count": null,
      "metadata": {
        "colab": {
          "base_uri": "https://localhost:8080/",
          "height": 295
        },
        "id": "jK5ahcopP-Z6",
        "outputId": "aeed2ac2-fed4-4eaf-b597-043cc7378f55"
      },
      "outputs": [
        {
          "output_type": "display_data",
          "data": {
            "text/plain": [
              "<Figure size 432x288 with 1 Axes>"
            ],
            "image/png": "[encoded data removed]"
          },
          "metadata": {
            "needs_background": "light"
          }
        }
      ],
      "source": [
        "plt.yscale(\"log\")\n",
        "plt.plot(trace_time,trace_fx,color='b')\n",
        "plt.xlabel(\"Time (s)\")\n",
        "plt.ylabel(\"Loss\")\n",
        "plt.title(\"SVRF algorithm\")\n",
        "plt.show()"
      ]
    }
  ],
  "metadata": {
    "colab": {
      "provenance": []
    },
    "kernelspec": {
      "display_name": "Python 3",
      "name": "python3"
    },
    "language_info": {
      "name": "python"
    }
  },
  "nbformat": 4,
  "nbformat_minor": 0
}